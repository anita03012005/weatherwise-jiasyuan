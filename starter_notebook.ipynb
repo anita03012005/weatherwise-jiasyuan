{
  "cells": [
    {
      "cell_type": "markdown",
      "metadata": {
        "id": "view-in-github",
        "colab_type": "text"
      },
      "source": [
        "<a href=\"https://colab.research.google.com/github/anita03012005/weatherwise-jiasyuan/blob/main/starter_notebook.ipynb\" target=\"_parent\"><img src=\"https://colab.research.google.com/assets/colab-badge.svg\" alt=\"Open In Colab\"/></a>"
      ]
    },
    {
      "cell_type": "markdown",
      "id": "72e78a05",
      "metadata": {
        "id": "72e78a05"
      },
      "source": [
        "# 🌦️ WeatherWise – Starter Notebook\n",
        "\n",
        "Welcome to your **WeatherWise** project notebook! This scaffold is designed to help you build your weather advisor app using Python, visualisations, and AI-enhanced development.\n",
        "\n",
        "---\n",
        "\n",
        "📄 **Full Assignment Specification**  \n",
        "See [`ASSIGNMENT.md`](ASSIGNMENT.md) or check the LMS for full details.\n",
        "\n",
        "📝 **Quick Refresher**  \n",
        "A one-page summary is available in [`resources/assignment-summary.md`](resources/assignment-summary.md).\n",
        "\n",
        "---\n",
        "\n",
        "🧠 **This Notebook Structure is Optional**  \n",
        "You’re encouraged to reorganise, rename sections, or remove scaffold cells if you prefer — as long as your final version meets the requirements.\n",
        "\n",
        "✅ You may delete this note before submission.\n",
        "\n"
      ]
    },
    {
      "cell_type": "markdown",
      "id": "fa8c7f6c",
      "metadata": {
        "id": "fa8c7f6c"
      },
      "source": [
        "## 🧰 Setup and Imports\n",
        "\n",
        "This section imports commonly used packages and installs any additional tools used in the project.\n",
        "\n",
        "- You may not need all of these unless you're using specific features (e.g. visualisations, advanced prompting).\n",
        "- The notebook assumes the following packages are **pre-installed** in the provided environment or installable via pip:\n",
        "  - `requests`, `matplotlib`, `pyinputplus`\n",
        "  - `fetch-my-weather` (for accessing weather data easily)\n",
        "  - `hands-on-ai` (for AI logging, comparisons, or prompting tools)\n",
        "\n",
        "If you're running this notebook in **Google Colab**, uncomment the following lines to install the required packages.\n"
      ]
    },
    {
      "cell_type": "code",
      "execution_count": null,
      "id": "70c3f3f1",
      "metadata": {
        "id": "70c3f3f1"
      },
      "outputs": [],
      "source": [
        "# 🧪 Optional packages — uncomment if needed in Colab or JupyterHub\n",
        "!pip install fetch-my-weather\n",
        "!pip install hands-on-ai\n"
      ]
    },
    {
      "cell_type": "code",
      "source": [
        "import os\n",
        "\n",
        "os.environ['HANDS_ON_AI_SERVER'] = 'http://ollama.serveur.au'\n",
        "os.environ['HANDS_ON_AI_MODEL'] = 'granite3.2'\n",
        "os.environ['HANDS_ON_AI_API_KEY'] = input('Enter your API key: ')"
      ],
      "metadata": {
        "id": "B2JKlJfrGgIb"
      },
      "id": "B2JKlJfrGgIb",
      "execution_count": null,
      "outputs": []
    },
    {
      "cell_type": "markdown",
      "id": "59ae7543",
      "metadata": {
        "id": "59ae7543"
      },
      "source": [
        "## 📦 Setup and Configuration\n",
        "Import required packages and setup environment."
      ]
    },
    {
      "cell_type": "code",
      "execution_count": null,
      "id": "f1dd051e",
      "metadata": {
        "id": "f1dd051e"
      },
      "outputs": [],
      "source": [
        "import requests\n",
        "import matplotlib.pyplot as plt\n",
        "import pyinputplus as pyip\n",
        "# ✅ Import after installing (if needed)\n",
        "from fetch_my_weather import get_weather\n",
        "from hands_on_ai.chat import get_response\n",
        "\n",
        "# Add any other setup code here"
      ]
    },
    {
      "cell_type": "markdown",
      "id": "f736ade3",
      "metadata": {
        "id": "f736ade3"
      },
      "source": [
        "## 🌤️ Weather Data Functions"
      ]
    },
    {
      "cell_type": "code",
      "execution_count": null,
      "id": "7a2c7cd0",
      "metadata": {
        "id": "7a2c7cd0"
      },
      "outputs": [],
      "source": [
        "# Define get_weather_data() function here\n",
        "def get_weather_data(location, forecast_days=5):\n",
        "    \"\"\"\n",
        "    Retrieve weather data for a specified location.\n",
        "\n",
        "    Args:\n",
        "        location (str): City or location name\n",
        "        forecast_days (int): Number of days to forecast (1-5)\n",
        "\n",
        "    Returns:\n",
        "        dict: Weather data including current conditions and forecast\n",
        "    \"\"\"\n",
        "    pass"
      ]
    },
    {
      "cell_type": "code",
      "source": [
        "def get_weather_data(location, forecast_days=5, timeout=10):\n",
        "    import requests\n",
        "    if not location or not isinstance(location, str):\n",
        "        print(\"Error: Invalid location\")\n",
        "        return None\n",
        "\n",
        "    if not 1 <= forecast_days <= 5:\n",
        "        print(\"Error: forecast_days must be between 1 and 5\")\n",
        "        forecast_days = min(max(1, forecast_days), 5)\n",
        "\n",
        "    url = f\"https://wttr.in/{location}?format=j1\"\n",
        "    try:\n",
        "        response = requests.get(url, timeout=timeout)\n",
        "        response.raise_for_status()\n",
        "\n",
        "        data = response.json()\n",
        "        result = {\n",
        "                \"location\": location.replace(\"+\", \" \"),\n",
        "                \"current\": {\n",
        "                    \"temperature\": {\n",
        "                        \"current\": int(data[\"current_condition\"][0][\"temp_C\"]),\n",
        "                        \"feels_like\": int(data[\"current_condition\"][0][\"FeelsLikeC\"])\n",
        "                    },\n",
        "                    \"condition\": data[\"current_condition\"][0][\"weatherDesc\"][0][\"value\"],\n",
        "                    \"humidity\": int(data[\"current_condition\"][0][\"humidity\"]),\n",
        "                    \"wind\": {\n",
        "                        \"speed\": int(data[\"current_condition\"][0][\"windspeedKmph\"]),\n",
        "                        \"direction\": data[\"current_condition\"][0][\"winddir16Point\"]\n",
        "                    },\n",
        "                    \"precipitation\": float(data[\"current_condition\"][0][\"precipMM\"])\n",
        "                },\n",
        "                \"forecast\": []\n",
        "        }\n",
        "\n",
        "        for i in range(min(forecast_days, len(data[\"weather\"]))):\n",
        "            day = data[\"weather\"][i]\n",
        "            forecast_day = {\n",
        "                    \"date\": day[\"date\"],\n",
        "                    \"max_temp\": int(day[\"maxtempC\"]),\n",
        "                    \"min_temp\": int(day[\"mintempC\"]),\n",
        "                    \"condition\": day[\"hourly\"][4][\"weatherDesc\"][0][\"value\"],  # Midday condition\n",
        "                    \"precipitation\": {\n",
        "                        \"chance\": int(day[\"hourly\"][4][\"chanceofrain\"]),\n",
        "                        \"amount\": float(day[\"hourly\"][4][\"precipMM\"])\n",
        "                    },\n",
        "                    \"wind\": {\n",
        "                        \"speed\": int(day[\"hourly\"][4][\"windspeedKmph\"]),\n",
        "                        \"direction\": day[\"hourly\"][4][\"winddir16Point\"]\n",
        "                    }\n",
        "                }\n",
        "            result[\"forecast\"].append(forecast_day)\n",
        "\n",
        "        return result\n",
        "    except requests.exceptions.RequestException as e:\n",
        "        print(f\"Error retrieving weather data: {e}\")\n",
        "        return None\n",
        "    except (KeyError, ValueError, TypeError) as e:\n",
        "        print(f\"Error processing weather data: {e}\")\n",
        "        return Non\n",
        "\n",
        "# Ask user to input ramdom city\n",
        "city = input(\"🌏Enter a city name:\")\n",
        "days = int(input(\"📅 How many forecast days? (1–5): \"))\n",
        "data = get_weather_data(city,days)\n",
        "print(data)\n",
        "\n",
        "if data:\n",
        "    print(f\"📍 Location: {data['location']}\")\n",
        "    print(f\"🌡️ Temperature: {data['current']['temperature']['current']}°C (Feels like {data['current']['temperature']['feels_like']}°C)\")\n",
        "    print(f\"☁️ Condition: {data['current']['condition']}\")\n",
        "    print(f\"💧 Humidity: {data['current']['humidity']}%\")\n",
        "    print(f\"💨 Wind: {data['current']['wind']['speed']} km/h {data['current']['wind']['direction']}\")\n",
        "else:\n",
        "    print(\"❌ Failed to retrieve weather data.\")"
      ],
      "metadata": {
        "colab": {
          "base_uri": "https://localhost:8080/"
        },
        "id": "biE2okYhqUuE",
        "outputId": "2ae31487-56fc-4ec4-e9ca-27ab08682b1c"
      },
      "id": "biE2okYhqUuE",
      "execution_count": 9,
      "outputs": [
        {
          "output_type": "stream",
          "name": "stdout",
          "text": [
            "🌏Enter a city name:taiwan\n",
            "📅 How many forecast days? (1–5): 5\n",
            "{'location': 'taiwan', 'current': {'temperature': {'current': 32, 'feels_like': 38}, 'condition': 'Patchy rain nearby', 'humidity': 59, 'wind': {'speed': 9, 'direction': 'WNW'}, 'precipitation': 0.1}, 'forecast': [{'date': '2025-10-16', 'max_temp': 30, 'min_temp': 13, 'condition': 'Sunny', 'precipitation': {'chance': 0, 'amount': 0.0}, 'wind': {'speed': 9, 'direction': 'WNW'}}, {'date': '2025-10-17', 'max_temp': 30, 'min_temp': 14, 'condition': 'Sunny', 'precipitation': {'chance': 0, 'amount': 0.0}, 'wind': {'speed': 9, 'direction': 'W'}}, {'date': '2025-10-18', 'max_temp': 31, 'min_temp': 13, 'condition': 'Sunny', 'precipitation': {'chance': 0, 'amount': 0.0}, 'wind': {'speed': 9, 'direction': 'W'}}]}\n",
            "📍 Location: taiwan\n",
            "🌡️ Temperature: 32°C (Feels like 38°C)\n",
            "☁️ Condition: Patchy rain nearby\n",
            "💧 Humidity: 59%\n",
            "💨 Wind: 9 km/h WNW\n"
          ]
        }
      ]
    },
    {
      "cell_type": "markdown",
      "id": "8a744fdc",
      "metadata": {
        "id": "8a744fdc"
      },
      "source": [
        "## 📊 Visualisation Functions"
      ]
    },
    {
      "cell_type": "code",
      "execution_count": null,
      "id": "9dc3bf85",
      "metadata": {
        "id": "9dc3bf85"
      },
      "outputs": [],
      "source": [
        "# Define create_temperature_visualisation() and create_precipitation_visualisation() here\n",
        "def create_temperature_visualisation(weather_data, output_type='display'):\n",
        "    \"\"\"\n",
        "    Create visualisation of temperature data.\n",
        "\n",
        "    Args:\n",
        "        weather_data (dict): The processed weather data\n",
        "        output_type (str): Either 'display' to show in notebook or 'figure' to return the figure\n",
        "\n",
        "    Returns:\n",
        "        If output_type is 'figure', returns the matplotlib figure object\n",
        "        Otherwise, displays the visualisation in the notebook\n",
        "    \"\"\"\n",
        "    pass\n"
      ]
    },
    {
      "cell_type": "code",
      "source": [
        "\n",
        "def create_precipitation_visualisation(weather_data, output_type='display'):\n",
        "    \"\"\"\n",
        "    Create visualisation of precipitation data.\n",
        "\n",
        "    Args:\n",
        "        weather_data (dict): The processed weather data\n",
        "        output_type (str): Either 'display' to show in notebook or 'figure' to return the figure\n",
        "\n",
        "    Returns:\n",
        "        If output_type is 'figure', returns the matplotlib figure object\n",
        "        Otherwise, displays the visualisation in the notebook\n",
        "    \"\"\"\n",
        "    pass"
      ],
      "metadata": {
        "id": "HpOlQylYG5Ho"
      },
      "id": "HpOlQylYG5Ho",
      "execution_count": null,
      "outputs": []
    },
    {
      "cell_type": "markdown",
      "id": "9f95d160",
      "metadata": {
        "id": "9f95d160"
      },
      "source": [
        "## 🤖 Natural Language Processing"
      ]
    },
    {
      "cell_type": "code",
      "execution_count": null,
      "id": "bcc5833e",
      "metadata": {
        "id": "bcc5833e"
      },
      "outputs": [],
      "source": [
        "# Define parse_weather_question() and generate_weather_response() here\n",
        "def parse_weather_question(question):\n",
        "    \"\"\"\n",
        "    Parse a natural language weather question.\n",
        "\n",
        "    Args:\n",
        "        question (str): User's weather-related question\n",
        "\n",
        "    Returns:\n",
        "        dict: Extracted information including location, time period, and weather attribute\n",
        "    \"\"\"\n",
        "    pass"
      ]
    },
    {
      "cell_type": "markdown",
      "id": "0d85225e",
      "metadata": {
        "id": "0d85225e"
      },
      "source": [
        "## 🧭 User Interface"
      ]
    },
    {
      "cell_type": "code",
      "execution_count": null,
      "id": "fa6cb0f6",
      "metadata": {
        "id": "fa6cb0f6"
      },
      "outputs": [],
      "source": [
        "# Define menu functions using pyinputplus or ipywidgets here"
      ]
    },
    {
      "cell_type": "markdown",
      "id": "d643a53c",
      "metadata": {
        "id": "d643a53c"
      },
      "source": [
        "## 🧩 Main Application Logic"
      ]
    },
    {
      "cell_type": "code",
      "execution_count": null,
      "id": "a9e2e805",
      "metadata": {
        "id": "a9e2e805"
      },
      "outputs": [],
      "source": [
        "# Tie everything together here\n",
        "def generate_weather_response(parsed_question, weather_data):\n",
        "    \"\"\"\n",
        "    Generate a natural language response to a weather question.\n",
        "\n",
        "    Args:\n",
        "        parsed_question (dict): Parsed question data\n",
        "        weather_data (dict): Weather data\n",
        "\n",
        "    Returns:\n",
        "        str: Natural language response\n",
        "    \"\"\"\n",
        "    pass"
      ]
    },
    {
      "cell_type": "markdown",
      "id": "fde44479",
      "metadata": {
        "id": "fde44479"
      },
      "source": [
        "## 🧪 Testing and Examples"
      ]
    },
    {
      "cell_type": "code",
      "execution_count": null,
      "id": "4e573901",
      "metadata": {
        "id": "4e573901"
      },
      "outputs": [],
      "source": [
        "# Include sample input/output for each function"
      ]
    },
    {
      "cell_type": "markdown",
      "id": "d2885880",
      "metadata": {
        "id": "d2885880"
      },
      "source": [
        "## 🗂️ AI Prompting Log (Optional)\n",
        "Add markdown cells here summarising prompts used or link to AI conversations in the `ai-conversations/` folder."
      ]
    }
  ],
  "metadata": {
    "language_info": {
      "name": "python"
    },
    "colab": {
      "provenance": [],
      "include_colab_link": true
    },
    "kernelspec": {
      "name": "python3",
      "display_name": "Python 3"
    }
  },
  "nbformat": 4,
  "nbformat_minor": 5
}